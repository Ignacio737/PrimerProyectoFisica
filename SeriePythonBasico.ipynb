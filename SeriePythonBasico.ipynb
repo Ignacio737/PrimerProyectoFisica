{
  "nbformat": 4,
  "nbformat_minor": 0,
  "metadata": {
    "kernelspec": {
      "display_name": "Python 3",
      "language": "python",
      "name": "python3"
    },
    "language_info": {
      "codemirror_mode": {
        "name": "ipython",
        "version": 3
      },
      "file_extension": ".py",
      "mimetype": "text/x-python",
      "name": "python",
      "nbconvert_exporter": "python",
      "pygments_lexer": "ipython3",
      "version": "3.7.3"
    },
    "colab": {
      "name": "SeriePythonBasico.ipynb",
      "provenance": [],
      "collapsed_sections": [],
      "include_colab_link": true
    }
  },
  "cells": [
    {
      "cell_type": "markdown",
      "metadata": {
        "id": "view-in-github",
        "colab_type": "text"
      },
      "source": [
        "<a href=\"https://colab.research.google.com/github/Ignacio737/PrimerProyectoFisica/blob/master/SeriePythonBasico.ipynb\" target=\"_parent\"><img src=\"https://colab.research.google.com/assets/colab-badge.svg\" alt=\"Open In Colab\"/></a>"
      ]
    },
    {
      "cell_type": "markdown",
      "metadata": {
        "id": "2LEW87rG6fdN",
        "colab_type": "text"
      },
      "source": [
        "## Serie Python \n",
        "### Temas básicos de python.\n",
        "\n",
        "Las indicaciones son editar este archivo, deje casillas de código para que sea de la manera más ordenada posible, una vez que estén sus funciones deben subir a classroom el ipynb y generar un pdf de el mismo. \n",
        "\n",
        "**TODAS LAS CASILLLAS DEBEN ESTAR EJECUTADAS**\n",
        "\n",
        "Muchos incisos implican inputs del usuario, ustedes deben probar cada una de sus funciones (ingresar los valores que se pidan) para mandarme el archivo ipynb y el pdf una vez que hayan ejecutado todo para que vea los outputs de sus programas. En caso de que no lo hagan de esa manera y lo manden sin ejecutar tendrán un **punto menos** en la serie.\n",
        "\n",
        "\n",
        "\n",
        "Mi recomendación personal es que una vez que tengan su serie lista reinicien el kernel y ejecuten todo así podrán probar que todo este correcto antes de enviarlo.\n",
        "\n",
        "\n",
        "No considero que sea una serie dificil, el fin es sólo que práctiquen. Hay muchas cosas que pueden hacerse en una línea si investigan sobre funciones que ya están implementadas en python. \n",
        "\n",
        "Si lo hacen de ambas maneras tendrán un punto extra y si comentan todo su código pueden tener otro punto extra.\n",
        "\n",
        "\n",
        "Cualquier duda o complicación comuniquense conmigo.\n",
        "\n",
        "\n",
        "Saludos."
      ]
    },
    {
      "cell_type": "code",
      "metadata": {
        "id": "xLWBuQ4p6fdR",
        "colab_type": "code",
        "outputId": "0598ac7c-9b97-4ec7-ef3d-647e4d5fd906",
        "colab": {
          "base_uri": "https://localhost:8080/",
          "height": 68
        }
      },
      "source": [
        "print(\"EJEMPLO:\")\n",
        "input(\"Está casilla ha sido ejecutada por: \")"
      ],
      "execution_count": 0,
      "outputs": [
        {
          "output_type": "stream",
          "text": [
            "EJEMPLO:\n",
            "Está casilla ha sido ejecutada por: Ignacio\n"
          ],
          "name": "stdout"
        },
        {
          "output_type": "execute_result",
          "data": {
            "text/plain": [
              "'Ignacio'"
            ]
          },
          "metadata": {
            "tags": []
          },
          "execution_count": 1
        }
      ]
    },
    {
      "cell_type": "markdown",
      "metadata": {
        "id": "Yp2LwzTV6fdi",
        "colab_type": "text"
      },
      "source": [
        "1) Crea una lista que regrese los multiplos de 7 y números que lleven algún siete en sus cifra hasta el 700. \n",
        "\n",
        "    [Out]: [7, 14, 17, 21, 27, 28, 35, 37, ...]"
      ]
    },
    {
      "cell_type": "code",
      "metadata": {
        "id": "Pna6px3SiSzJ",
        "colab_type": "code",
        "colab": {}
      },
      "source": [
        "\n",
        "\n"
      ],
      "execution_count": 0,
      "outputs": []
    },
    {
      "cell_type": "code",
      "metadata": {
        "id": "hrBa3oKniXps",
        "colab_type": "code",
        "colab": {}
      },
      "source": [
        ""
      ],
      "execution_count": 0,
      "outputs": []
    },
    {
      "cell_type": "code",
      "metadata": {
        "id": "0VCP_0ad6fdp",
        "colab_type": "code",
        "colab": {}
      },
      "source": [
        ""
      ],
      "execution_count": 0,
      "outputs": []
    },
    {
      "cell_type": "markdown",
      "metadata": {
        "id": "poBv_IHk6fd2",
        "colab_type": "text"
      },
      "source": [
        "2) Realiza una función que reciba un número y regrese dicho número elevado por un número aleatorio entero entre el 1 y el 10"
      ]
    },
    {
      "cell_type": "code",
      "metadata": {
        "id": "6ncKSwYg6fd6",
        "colab_type": "code",
        "outputId": "aab0ddd6-da9a-448c-985b-f842d6513b4e",
        "colab": {
          "base_uri": "https://localhost:8080/",
          "height": 72
        }
      },
      "source": [
        "from random import uniform #biblioteca aleatoria, funciones uniform, radint(numero aleatorios enteroes)\n",
        "numero=float(input(\"Escribe un numero:\"))\n",
        "def Cuadrado(numero):\n",
        "    potencia= numero**3\n",
        "    print(potencia)\n",
        "    return\n",
        "print(Cuadrado(numero))"
      ],
      "execution_count": 0,
      "outputs": [
        {
          "output_type": "stream",
          "text": [
            "Escribe un numero:5\n",
            "125.0\n",
            "None\n"
          ],
          "name": "stdout"
        }
      ]
    },
    {
      "cell_type": "markdown",
      "metadata": {
        "id": "e3d9h9TN6feB",
        "colab_type": "text"
      },
      "source": [
        "3) Crea una función que reciba dos números e indique si son múltiplos el uno del otro "
      ]
    },
    {
      "cell_type": "code",
      "metadata": {
        "id": "dFYoUwAH6feM",
        "colab_type": "code",
        "outputId": "042dfc6d-90a6-444d-88d7-30aa894895ea",
        "colab": {
          "base_uri": "https://localhost:8080/",
          "height": 90
        }
      },
      "source": [
        "numero1=int(input(\"Escribe el primer numero:\"))\n",
        "numero2=int(input(\"Escribe el segundo numero:\"))\n",
        "def Multiplos(numero1,numero2):\n",
        "    if numero1%numero2==0 or numero2%numero1==0:\n",
        "       print(\"son multiplos\")\n",
        "    else: \n",
        "      print(\"no son multiplos\")\n",
        "print(Multiplos(numero1,numero2))\n"
      ],
      "execution_count": 0,
      "outputs": [
        {
          "output_type": "stream",
          "text": [
            "Escribe el primer numero:5\n",
            "Escribe el segundo numero:10\n",
            "son multiplos\n",
            "None\n"
          ],
          "name": "stdout"
        }
      ]
    },
    {
      "cell_type": "markdown",
      "metadata": {
        "id": "T8FXkj9J6feU",
        "colab_type": "text"
      },
      "source": [
        "4) Crea una función que reciba una lista desordenada de números y la ordene de mayor a menor\n",
        "\n",
        "    Ejemplo: [In]: [77, 1, 364, 587, 21, 13, 54, 999]  [Out]: [999, 587, 364, 77, 54, 21, 13, 1]"
      ]
    },
    {
      "cell_type": "code",
      "metadata": {
        "id": "ozMAOnHC6feV",
        "colab_type": "code",
        "outputId": "5914c09c-dbb3-437b-aeeb-d17c2bfee5b9",
        "colab": {
          "base_uri": "https://localhost:8080/",
          "height": 135
        }
      },
      "source": [
        "lista= (1,20,6,12,5) #investigar funciones predeterminadas,buscar foros, paginas oficiales de Python\n",
        "for recorrido in range(1,len(lista)):\n",
        "   for posicion in range(len(lista)-recorrido):\n",
        "       if lista(posicion) > lista(posicion+1):\n",
        "         temp=lista(posicion)\n",
        "         lista(posicion)=lista(posicion+1)\n",
        "         lista(posicion+1)=temp\n",
        "print(lista)"
      ],
      "execution_count": 0,
      "outputs": [
        {
          "output_type": "error",
          "ename": "SyntaxError",
          "evalue": "ignored",
          "traceback": [
            "\u001b[0;36m  File \u001b[0;32m\"<ipython-input-37-588260aaef43>\"\u001b[0;36m, line \u001b[0;32m6\u001b[0m\n\u001b[0;31m    lista(posicion)=lista(posicion+1)\u001b[0m\n\u001b[0m    ^\u001b[0m\n\u001b[0;31mSyntaxError\u001b[0m\u001b[0;31m:\u001b[0m can't assign to function call\n"
          ]
        }
      ]
    },
    {
      "cell_type": "markdown",
      "metadata": {
        "id": "M1dmkXqs6feg",
        "colab_type": "text"
      },
      "source": [
        "5) Teniendose una lista con números entre el uno y el diez que pueden o no estar repetidos realiza un programa que pueda regresar el número que no está repetido de cualquier lista de este tipo.\n",
        "\n",
        "    Ejemplo: [In]: [ 1, 1, 2, 2, 3, 4, 4, 5, 5, 6, 6, 7, 7]  [Out]: 3"
      ]
    },
    {
      "cell_type": "code",
      "metadata": {
        "id": "_owyM0NI6feh",
        "colab_type": "code",
        "colab": {
          "base_uri": "https://localhost:8080/",
          "height": 34
        },
        "outputId": "f49923e9-397a-4e22-a3ce-c2822deafc83"
      },
      "source": [
        "lista=[ 1, 1, 2, 2, 3, 4, 4, 5, 5, 6, 6, 7, 7] \n",
        "for elemento in lista:\n",
        "    if lista.count(elemento) == 1:\n",
        "       print(elemento)\n",
        "\n",
        "\n",
        "\n",
        "\n"
      ],
      "execution_count": 16,
      "outputs": [
        {
          "output_type": "stream",
          "text": [
            "3\n"
          ],
          "name": "stdout"
        }
      ]
    },
    {
      "cell_type": "markdown",
      "metadata": {
        "id": "kavueu8h6fer",
        "colab_type": "text"
      },
      "source": [
        "6) Implementa una función que reciba una lista de números enteros entre el uno y el diez que pueden o no estar repetidos y regrese un diccionario cuya clave sea el número (de menor a mayor) y el valor el número de veces que se repite ese item en la lista.\n",
        "\n",
        "      Ejemplo: [In]:[1, 8, 9, 6, 4, 1, 1, 5, 4, 2, 3, 5, 5, 8, 1, 3, 2] \n",
        "               [Out]: { 1:4 , 2:2 , 3:2, 4:2, 5:3, 6:1, 8:2, 9:1} \n",
        "\n",
        "**NOTA**: Consideren que la lista sólo va de 1 al 10 así que pueden evaluar primero los valores dentro de la lista o evaluar del 1 al 10 con lo que obtendrían: { 1:4 , 2:2 , 3:2, 4:2, 5:3, 6:1, 7:0, 8:2, 9:1, 10:0 }"
      ]
    },
    {
      "cell_type": "code",
      "metadata": {
        "id": "KPBsC91i6fet",
        "colab_type": "code",
        "colab": {
          "base_uri": "https://localhost:8080/",
          "height": 34
        },
        "outputId": "d14b571e-1eb1-4da4-f81f-33ff63080052"
      },
      "source": [
        "pruebaLista=[1, 8, 9, 6, 4, 1, 1, 5, 4, 2, 3, 5, 5, 8, 1, 3, 2] \n",
        "def contadorRepeticiones(lista):\n",
        "    diccionarioRepeticiones = { numero:lista.count(numero) for numero in set(lista)}\n",
        "    return diccionarioRepeticiones\n",
        "print(contadorRepeticiones(pruebaLista))    "
      ],
      "execution_count": 13,
      "outputs": [
        {
          "output_type": "stream",
          "text": [
            "{1: 4, 2: 2, 3: 2, 4: 2, 5: 3, 6: 1, 8: 2, 9: 1}\n"
          ],
          "name": "stdout"
        }
      ]
    },
    {
      "cell_type": "markdown",
      "metadata": {
        "id": "5XbvVXpZ6fe1",
        "colab_type": "text"
      },
      "source": [
        "7) Elabora una función que reciba valores del usuario y los añada a una lista con la condición de que sea un valor númerico entre el 0 y 10.  \n",
        "\n",
        "**OPCIONAL +1 punto en la serie**: En caso de que no sea un valor númerico que levante <raise> una excepción creada por ustedes que se llamen \"aquí no\""
      ]
    },
    {
      "cell_type": "code",
      "metadata": {
        "id": "dbDx5s8z6fe2",
        "colab_type": "code",
        "colab": {
          "base_uri": "https://localhost:8080/",
          "height": 384
        },
        "outputId": "ed80ca20-c915-42a3-aadc-09507ff04811"
      },
      "source": [
        "def agregarEntreUnoDiez():\n",
        "    lista:[] \n",
        "    respuesta=' '\n",
        "    while respuesta !='si ':\n",
        "        try:\n",
        "            print(\"ingresa el numero a tratar\")\n",
        "            numeroIngresado=float(input())\n",
        "            if 0 <= numeroIngresado <= 10:\n",
        "                lista.append(numeroIngresado)\n",
        "        except ValueError:\n",
        "            print(\"Aqui no\")\n",
        "        finally:\n",
        "            print(\"Para segui intentando teclea 'si ', en caso contrario teclea 'no '\")\n",
        "            resultado=input()\n",
        "            if resultado == 'no ':\n",
        "               break \n",
        "    print(lista)\n",
        "agregarEntreUnoDiez()"
      ],
      "execution_count": 23,
      "outputs": [
        {
          "output_type": "stream",
          "text": [
            "ingresa el numero a tratar\n",
            "4\n",
            "Para segui intentando teclea 'si ', en caso contrario teclea 'no '\n",
            "no\n"
          ],
          "name": "stdout"
        },
        {
          "output_type": "error",
          "ename": "UnboundLocalError",
          "evalue": "ignored",
          "traceback": [
            "\u001b[0;31m---------------------------------------------------------------------------\u001b[0m",
            "\u001b[0;31mUnboundLocalError\u001b[0m                         Traceback (most recent call last)",
            "\u001b[0;32m<ipython-input-23-be440a49ce34>\u001b[0m in \u001b[0;36m<module>\u001b[0;34m()\u001b[0m\n\u001b[1;32m     16\u001b[0m                \u001b[0;32mbreak\u001b[0m\u001b[0;34m\u001b[0m\u001b[0;34m\u001b[0m\u001b[0m\n\u001b[1;32m     17\u001b[0m     \u001b[0mprint\u001b[0m\u001b[0;34m(\u001b[0m\u001b[0mlista\u001b[0m\u001b[0;34m)\u001b[0m\u001b[0;34m\u001b[0m\u001b[0;34m\u001b[0m\u001b[0m\n\u001b[0;32m---> 18\u001b[0;31m \u001b[0magregarEntreUnoDiez\u001b[0m\u001b[0;34m(\u001b[0m\u001b[0;34m)\u001b[0m\u001b[0;34m\u001b[0m\u001b[0;34m\u001b[0m\u001b[0m\n\u001b[0m",
            "\u001b[0;32m<ipython-input-23-be440a49ce34>\u001b[0m in \u001b[0;36magregarEntreUnoDiez\u001b[0;34m()\u001b[0m\n\u001b[1;32m      7\u001b[0m             \u001b[0mnumeroIngresado\u001b[0m\u001b[0;34m=\u001b[0m\u001b[0mfloat\u001b[0m\u001b[0;34m(\u001b[0m\u001b[0minput\u001b[0m\u001b[0;34m(\u001b[0m\u001b[0;34m)\u001b[0m\u001b[0;34m)\u001b[0m\u001b[0;34m\u001b[0m\u001b[0;34m\u001b[0m\u001b[0m\n\u001b[1;32m      8\u001b[0m             \u001b[0;32mif\u001b[0m \u001b[0;36m0\u001b[0m \u001b[0;34m<=\u001b[0m \u001b[0mnumeroIngresado\u001b[0m \u001b[0;34m<=\u001b[0m \u001b[0;36m10\u001b[0m\u001b[0;34m:\u001b[0m\u001b[0;34m\u001b[0m\u001b[0;34m\u001b[0m\u001b[0m\n\u001b[0;32m----> 9\u001b[0;31m                 \u001b[0mlista\u001b[0m\u001b[0;34m.\u001b[0m\u001b[0mappend\u001b[0m\u001b[0;34m(\u001b[0m\u001b[0mnumeroIngresado\u001b[0m\u001b[0;34m)\u001b[0m\u001b[0;34m\u001b[0m\u001b[0;34m\u001b[0m\u001b[0m\n\u001b[0m\u001b[1;32m     10\u001b[0m         \u001b[0;32mexcept\u001b[0m \u001b[0mValueError\u001b[0m\u001b[0;34m:\u001b[0m\u001b[0;34m\u001b[0m\u001b[0;34m\u001b[0m\u001b[0m\n\u001b[1;32m     11\u001b[0m             \u001b[0mprint\u001b[0m\u001b[0;34m(\u001b[0m\u001b[0;34m\"Aqui no\"\u001b[0m\u001b[0;34m)\u001b[0m\u001b[0;34m\u001b[0m\u001b[0;34m\u001b[0m\u001b[0m\n",
            "\u001b[0;31mUnboundLocalError\u001b[0m: local variable 'lista' referenced before assignment"
          ]
        }
      ]
    },
    {
      "cell_type": "markdown",
      "metadata": {
        "id": "mSVsiItT6fe_",
        "colab_type": "text"
      },
      "source": [
        "8) Haz una función que reciba una frase y regrese un booleano True en caso de ser palindromo y False de no serlo.\n",
        "\n",
        "    Ejemplo: [In]: \"Anita lava la tina\"  [Out]: True\n",
        "    \n",
        "**NOTA**: Tomen en cuenta que los espacios no deben ser tomados en cuenta y que Python es sensible a mayúsculas y minúsculas."
      ]
    },
    {
      "cell_type": "code",
      "metadata": {
        "id": "oYXTpWyP6ffB",
        "colab_type": "code",
        "colab": {
          "base_uri": "https://localhost:8080/",
          "height": 316
        },
        "outputId": "171e8d49-9cb4-4f0f-fc68-27bb3620bf42"
      },
      "source": [
        "def identificadorPalindromos(cadenaInicial):\n",
        "    cadenaMinuscula=cadenaInicial.lower()\n",
        "    cadenaSinEspacios=cadenaMinuscula.replace(' ',' ')\n",
        "    cadenainvertida=CadenaSinEspacios[::-1]\n",
        "    return cadenaSinEspacios==cadenaInvertida\n",
        "pruebaCadena = 'Anita lava la tina '\n",
        "print(identificadorPalindromos(pruebaCadena))"
      ],
      "execution_count": 25,
      "outputs": [
        {
          "output_type": "error",
          "ename": "NameError",
          "evalue": "ignored",
          "traceback": [
            "\u001b[0;31m---------------------------------------------------------------------------\u001b[0m",
            "\u001b[0;31mNameError\u001b[0m                                 Traceback (most recent call last)",
            "\u001b[0;32m<ipython-input-25-2374ffa4f436>\u001b[0m in \u001b[0;36m<module>\u001b[0;34m()\u001b[0m\n\u001b[1;32m      5\u001b[0m     \u001b[0;32mreturn\u001b[0m \u001b[0mcadenaSinEspacios\u001b[0m\u001b[0;34m==\u001b[0m\u001b[0mcadenaInvertida\u001b[0m\u001b[0;34m\u001b[0m\u001b[0;34m\u001b[0m\u001b[0m\n\u001b[1;32m      6\u001b[0m \u001b[0mpruebaCadena\u001b[0m \u001b[0;34m=\u001b[0m \u001b[0;34m'Anita lava la tina '\u001b[0m\u001b[0;34m\u001b[0m\u001b[0;34m\u001b[0m\u001b[0m\n\u001b[0;32m----> 7\u001b[0;31m \u001b[0mprint\u001b[0m\u001b[0;34m(\u001b[0m\u001b[0midentificadorPalindromos\u001b[0m\u001b[0;34m(\u001b[0m\u001b[0mpruebaCadena\u001b[0m\u001b[0;34m)\u001b[0m\u001b[0;34m)\u001b[0m\u001b[0;34m\u001b[0m\u001b[0;34m\u001b[0m\u001b[0m\n\u001b[0m",
            "\u001b[0;32m<ipython-input-25-2374ffa4f436>\u001b[0m in \u001b[0;36midentificadorPalindromos\u001b[0;34m(cadenaInicial)\u001b[0m\n\u001b[1;32m      2\u001b[0m     \u001b[0mcadenaMinuscula\u001b[0m\u001b[0;34m=\u001b[0m\u001b[0mcadenaInicial\u001b[0m\u001b[0;34m.\u001b[0m\u001b[0mlower\u001b[0m\u001b[0;34m(\u001b[0m\u001b[0;34m)\u001b[0m\u001b[0;34m\u001b[0m\u001b[0;34m\u001b[0m\u001b[0m\n\u001b[1;32m      3\u001b[0m     \u001b[0mcadenaSinEspacios\u001b[0m\u001b[0;34m=\u001b[0m\u001b[0mcadenaMinuscula\u001b[0m\u001b[0;34m.\u001b[0m\u001b[0mreplace\u001b[0m\u001b[0;34m(\u001b[0m\u001b[0;34m' '\u001b[0m\u001b[0;34m,\u001b[0m\u001b[0;34m' '\u001b[0m\u001b[0;34m)\u001b[0m\u001b[0;34m\u001b[0m\u001b[0;34m\u001b[0m\u001b[0m\n\u001b[0;32m----> 4\u001b[0;31m     \u001b[0mcadenainvertida\u001b[0m\u001b[0;34m=\u001b[0m\u001b[0mCadenaSinEspacios\u001b[0m\u001b[0;34m[\u001b[0m\u001b[0;34m:\u001b[0m\u001b[0;34m:\u001b[0m\u001b[0;34m-\u001b[0m\u001b[0;36m1\u001b[0m\u001b[0;34m]\u001b[0m\u001b[0;34m\u001b[0m\u001b[0;34m\u001b[0m\u001b[0m\n\u001b[0m\u001b[1;32m      5\u001b[0m     \u001b[0;32mreturn\u001b[0m \u001b[0mcadenaSinEspacios\u001b[0m\u001b[0;34m==\u001b[0m\u001b[0mcadenaInvertida\u001b[0m\u001b[0;34m\u001b[0m\u001b[0;34m\u001b[0m\u001b[0m\n\u001b[1;32m      6\u001b[0m \u001b[0mpruebaCadena\u001b[0m \u001b[0;34m=\u001b[0m \u001b[0;34m'Anita lava la tina '\u001b[0m\u001b[0;34m\u001b[0m\u001b[0;34m\u001b[0m\u001b[0m\n",
            "\u001b[0;31mNameError\u001b[0m: name 'CadenaSinEspacios' is not defined"
          ]
        }
      ]
    },
    {
      "cell_type": "markdown",
      "metadata": {
        "id": "G53GfL886ffI",
        "colab_type": "text"
      },
      "source": [
        "9) Escribe una función que reciba una cadena y regrese un diccionario donde la llave sea la vocal y el valor el número de veces que aparece en dicha cadena. \n",
        "\n",
        "    Ejemplo: [In]: \"Parangaricutirimicuaro\"   [Out]: { 'a':4, 'e':0, 'i':4, 'o':1, 'u':2 }"
      ]
    },
    {
      "cell_type": "code",
      "metadata": {
        "id": "JHxztOx26ffK",
        "colab_type": "code",
        "colab": {
          "base_uri": "https://localhost:8080/",
          "height": 34
        },
        "outputId": "d303cdd0-e968-49e8-a515-951381ff8d8e"
      },
      "source": [
        "def contadorVocales(cadena):\n",
        "    diccionarioVocales= {vocal:cadena.count(vocal) for vocal in ['a ','e ',' i ',' o','u ']}\n",
        "    return diccionarioVocales\n",
        "cadenaPrueba=\"Desestresante\"\n",
        "print(contadorVocales(cadenaPrueba))"
      ],
      "execution_count": 29,
      "outputs": [
        {
          "output_type": "stream",
          "text": [
            "{'a ': 0, 'e ': 0, ' i ': 0, ' o': 0, 'u ': 0}\n"
          ],
          "name": "stdout"
        }
      ]
    },
    {
      "cell_type": "markdown",
      "metadata": {
        "id": "dlvYsCcS6ffS",
        "colab_type": "text"
      },
      "source": [
        "8) Realiza una función que al ingresar tu altura y tu peso regrese tu índice de masa corporal(IMC)\n",
        "    \n",
        "**NOTA**: IMC= peso en kg / estatura en metros al cuadrado"
      ]
    },
    {
      "cell_type": "code",
      "metadata": {
        "id": "zXXEQXid6ffT",
        "colab_type": "code",
        "colab": {
          "base_uri": "https://localhost:8080/",
          "height": 102
        },
        "outputId": "4949e4ed-cd0f-4394-cd38-2ef4744f9d67"
      },
      "source": [
        "print('Ingresa tu peso: ')\n",
        "peso=float(input())\n",
        "print(' Ingresa tu estatura:')\n",
        "estatura=float(input())\n",
        "\n",
        "def calcularIMC(peso,altura):\n",
        "    return peso/estatura**2\n",
        "\n",
        "print('Tu indice de masa coorporal es',calcularIMC(peso,estatura))"
      ],
      "execution_count": 33,
      "outputs": [
        {
          "output_type": "stream",
          "text": [
            "Ingresa tu peso: \n",
            "70\n",
            " Ingresa tu estatura:\n",
            "1.73\n",
            "Tu indice de masa coorporal es 23.38868655818771\n"
          ],
          "name": "stdout"
        }
      ]
    },
    {
      "cell_type": "markdown",
      "metadata": {
        "id": "aAD1tPji6ffa",
        "colab_type": "text"
      },
      "source": [
        "9) Elabora un programa que permita realizar la suma de dos matrices 3x3. Los datos de ambas matrices deberán ser ingresados por el usuario.\n",
        "\n",
        "**NOTA** : Las matrices en python puede implementarse con listas dentro de listas"
      ]
    },
    {
      "cell_type": "code",
      "metadata": {
        "id": "7Bhx5pX66ffd",
        "colab_type": "code",
        "colab": {}
      },
      "source": [
        ""
      ],
      "execution_count": 0,
      "outputs": []
    },
    {
      "cell_type": "markdown",
      "metadata": {
        "id": "0rftFhis6ffm",
        "colab_type": "text"
      },
      "source": [
        "10) Con ayuda de las sentencias if y elif elabora una calculadora que permita sumar, restar, multiplicar y dividir dos números. El usuario podrá elegir qué operación desea realizar e ingresar dichos dos números."
      ]
    },
    {
      "cell_type": "code",
      "metadata": {
        "id": "NeQPecXr6ffo",
        "colab_type": "code",
        "colab": {
          "base_uri": "https://localhost:8080/",
          "height": 119
        },
        "outputId": "482a8c6e-d90f-472e-de4a-f995ad7d2032"
      },
      "source": [
        "print(\"Ingrese el primer numero\")\n",
        "primerNumero=float(input())\n",
        "print(\"Ingrese el segundo numero\")\n",
        "segundoNumero=float(input())\n",
        "print(\"Operacion que deseas realiza: *,/,+ \")\n",
        "orden=input()\n",
        "if orden==' +':\n",
        "  print(primerNumero+segundoNumero)\n",
        "elif orden=='* ':\n",
        "  print(primerNumero*segundoNumero)\n",
        "if orden==' /':\n",
        "  print(primerNumero/segundoNumero)"
      ],
      "execution_count": 37,
      "outputs": [
        {
          "output_type": "stream",
          "text": [
            "Ingrese el primer numero\n",
            "50\n",
            "Ingrese el segundo numero\n",
            "10\n",
            "Operacion que deseas realiza: *,/,+ \n",
            "/\n"
          ],
          "name": "stdout"
        }
      ]
    },
    {
      "cell_type": "markdown",
      "metadata": {
        "id": "cfbmN3uK6ffx",
        "colab_type": "text"
      },
      "source": [
        "11) Implementando funciones lamba, elabora un programa que permita realizar las operaciones básicas aritméticas"
      ]
    },
    {
      "cell_type": "code",
      "metadata": {
        "id": "6of69g7W6ffz",
        "colab_type": "code",
        "colab": {
          "base_uri": "https://localhost:8080/",
          "height": 136
        },
        "outputId": "e63f6b11-d216-45a9-da34-27f21bd2d048"
      },
      "source": [
        "print('Ingresa un numero: ')\n",
        "primernumero=float(input())\n",
        "print(' Ingresa otro numero:')\n",
        "segundonumero=float(input( ))\n",
        "suma=lambda primersumando, segundosumando: primersumando + segundosumando\n",
        "print('La suma es: ',suma(primernumero,segundonumero))\n",
        "resta= lambda primersumando, segundosumando: primersumando - segundosumando\n",
        "print('La resta es: ', resta(primernumero,segundonumero))\n",
        "producto=lambda primersumando,segundosumando: primersumando * segundosumando\n",
        "print('El producto es: ', producto(primernumero,segundonumero))"
      ],
      "execution_count": 41,
      "outputs": [
        {
          "output_type": "stream",
          "text": [
            "Ingresa un numero: \n",
            "8\n",
            " Ingresa otro numero:\n",
            "5\n",
            "La suma es:  13.0\n",
            "La resta es:  3.0\n",
            "El producto es:  40.0\n"
          ],
          "name": "stdout"
        }
      ]
    },
    {
      "cell_type": "markdown",
      "metadata": {
        "id": "VFFSJh9L6ff5",
        "colab_type": "text"
      },
      "source": [
        "12) Haz una función que regrese los números primos menores de 50\n",
        "\n",
        "    Ejemplo: [Out]: [ 1, 2, 3, 5, 7, 11, 13, 17, 19, 23, 29, 31, 37, 41, 47]"
      ]
    },
    {
      "cell_type": "code",
      "metadata": {
        "id": "Dl3ZKIRB6ff8",
        "colab_type": "code",
        "colab": {
          "base_uri": "https://localhost:8080/",
          "height": 34
        },
        "outputId": "ec287fa0-e2de-41fe-ea81-c29623b14d97"
      },
      "source": [
        "lista:[ 1, 2, 3, 5, 7, 11, 13, 17, 19, 23, 29, 31, 37, 41, 47]\n",
        "def primM50(lista):\n",
        "    \n",
        "    for num in range(2,50):\n",
        "        for i in range(2,num):\n",
        "            if (num % i)== 0:\n",
        "              break\n",
        "        else:\n",
        "           lista.append(num)\n",
        "    return lista\n",
        "print(primM50(lista))"
      ],
      "execution_count": 49,
      "outputs": [
        {
          "output_type": "stream",
          "text": [
            "[1, 1, 2, 2, 3, 4, 4, 5, 5, 6, 6, 7, 7, 2, 2, 2, 3, 5, 7, 11, 13, 17, 19, 23, 29, 31, 37, 41, 43, 47]\n"
          ],
          "name": "stdout"
        }
      ]
    },
    {
      "cell_type": "markdown",
      "metadata": {
        "id": "d7psqWVa6fgD",
        "colab_type": "text"
      },
      "source": [
        "13) Realiza una función donde ingreses un número \"n\" y que regrese \"n\" términos de la serie fibonacci\n",
        "    \n",
        "    Ejemplo: [In]: 11 [Out]: [0, 1, 1, 2, 3, 5, 8, 13, 21, 34, 55 ]"
      ]
    },
    {
      "cell_type": "code",
      "metadata": {
        "id": "pWPZQLli6fgF",
        "colab_type": "code",
        "colab": {
          "base_uri": "https://localhost:8080/",
          "height": 34
        },
        "outputId": "be56b151-b94a-4f87-ebc3-5843a784cf90"
      },
      "source": [
        "def fibonacci(n):\n",
        "    def fibonachear(num):\n",
        "        if num < 2:\n",
        "           return num\n",
        "        else:\n",
        "            return fibonachear(num-1) + fibonachear(num-2)\n",
        "    listaFibonacci= []\n",
        "    for numero in range(n):\n",
        "        listaFibonacci.append(fibonachear(numero))\n",
        "    print(listaFibonacci)\n",
        "\n",
        "fibonacci(5)"
      ],
      "execution_count": 53,
      "outputs": [
        {
          "output_type": "stream",
          "text": [
            "[0, 1, 1, 2, 3]\n"
          ],
          "name": "stdout"
        }
      ]
    },
    {
      "cell_type": "markdown",
      "metadata": {
        "id": "pXL6He6H6fgL",
        "colab_type": "text"
      },
      "source": [
        "14) Escribe una función que pida un número \"n\" y luego pida al usuario \"n\" número de entradas"
      ]
    },
    {
      "cell_type": "code",
      "metadata": {
        "id": "i7Fxh6U96fgN",
        "colab_type": "code",
        "colab": {
          "base_uri": "https://localhost:8080/",
          "height": 170
        },
        "outputId": "1de6b79e-8922-4a06-a298-a1c77522e1bc"
      },
      "source": [
        "def salida():\n",
        "    lista=[]\n",
        "    print(\"Ingresa un numero entero\")\n",
        "    n=int(input())\n",
        "    for i in range(n):\n",
        "        print(\"Ingresa entrada\",i+1)\n",
        "        entrada=input()\n",
        "        lista.append(entrada)\n",
        "    return print(lista)\n",
        "salida()\n"
      ],
      "execution_count": 60,
      "outputs": [
        {
          "output_type": "stream",
          "text": [
            "Ingresa un numero entero\n",
            "3\n",
            "Ingresa entrada 1\n",
            "4\n",
            "Ingresa entrada 2\n",
            "6\n",
            "Ingresa entrada 3\n",
            "7\n",
            "['4', '6', '7']\n"
          ],
          "name": "stdout"
        }
      ]
    },
    {
      "cell_type": "markdown",
      "metadata": {
        "id": "XOrqUIGg6fgT",
        "colab_type": "text"
      },
      "source": [
        "15) Realiza una función que reciba una matriz 3x3 y regresé la transpuesta de dicha matriz"
      ]
    },
    {
      "cell_type": "code",
      "metadata": {
        "id": "WTKKfMpj6fgV",
        "colab_type": "code",
        "colab": {
          "base_uri": "https://localhost:8080/",
          "height": 68
        },
        "outputId": "f38363f3-fcde-4d03-be48-23545f1e902e"
      },
      "source": [
        "import numpy as np \n",
        "matrizPrueba=np.matrix([[4,6,7],[5,8,9,],[0,0,0]])\n",
        "def inversa(matriz):\n",
        "    invertir= matriz*(-1)\n",
        "    return invertir\n",
        "print(inversa(matrizPrueba))"
      ],
      "execution_count": 64,
      "outputs": [
        {
          "output_type": "stream",
          "text": [
            "[[-4 -6 -7]\n",
            " [-5 -8 -9]\n",
            " [ 0  0  0]]\n"
          ],
          "name": "stdout"
        }
      ]
    },
    {
      "cell_type": "markdown",
      "metadata": {
        "id": "CYzbB_by6fga",
        "colab_type": "text"
      },
      "source": [
        "16) Crea una lista con los números del 1 al 100 que en los multiplos de 7 y números que lleven algún siete en sus cifra regrese la cadena \"Aplauso\"\n",
        "\n",
        "    Ejemplo: [Out]: [1, 2, 3, 4, 5, 6, \"Aplauso\", 8, 9, 10, 11, 12, 13, \"Aplauso\", 15, 16, \"Aplauso\", 18, 19, 20, \"Aplauso\", 22, 23, 24, 25, 26,\"Aplauso\", \"Aplauso\", 29, 30, 31, 32, 33, 34, \"Aplauso\", 36, \"Aplauso\", 38, 39, 40, 41, \"Aplauso\", 43, 44, 45, 46, \"Aplauso\", 48, \"Aplauso\", 50, 51, 52, 53, 54, 55, \"Aplauso\", \"Aplauso\", 58, 59, 60, 61, 62, \"Aplauso\", 64, 65, 66, \"Aplauso\", 68, 69, \"Aplauso\", \"Aplauso\", \"Aplauso\", \"Aplauso\", \"Aplauso\", \"Aplauso\", \"Aplauso\", \"Aplauso\", \"Aplauso\", \"Aplauso\", 80, 81, 82, 83, \"Aplauso\", 85, 86, \"Aplauso\", 88, 89, 90, \"Aplauso\", 92, 93, 94, 95, 96, \"Aplauso\", \"Aplauso\", 99, 100]"
      ]
    },
    {
      "cell_type": "code",
      "metadata": {
        "id": "ujY6LmBZ6fgc",
        "colab_type": "code",
        "colab": {
          "base_uri": "https://localhost:8080/",
          "height": 129
        },
        "outputId": "22a540f3-969d-49e5-93f4-13727b0f25d7"
      },
      "source": [
        "listaEvitaSiete=[]\n",
        "for numero in range(1,100)\n",
        "    if numero% 7==0 or '7' in str(numero):\n",
        "       listaEvitaSiete.append('Aplauso')\n",
        "    else: \n",
        "      listaEvitaSiete.append(numero)\n",
        "print(listaEvitaSiete)"
      ],
      "execution_count": 67,
      "outputs": [
        {
          "output_type": "error",
          "ename": "SyntaxError",
          "evalue": "ignored",
          "traceback": [
            "\u001b[0;36m  File \u001b[0;32m\"<ipython-input-67-c31ba0c3e5b2>\"\u001b[0;36m, line \u001b[0;32m2\u001b[0m\n\u001b[0;31m    for numero in range(1,100)\u001b[0m\n\u001b[0m                              ^\u001b[0m\n\u001b[0;31mSyntaxError\u001b[0m\u001b[0;31m:\u001b[0m invalid syntax\n"
          ]
        }
      ]
    },
    {
      "cell_type": "markdown",
      "metadata": {
        "id": "U5Ra4T9O6fgl",
        "colab_type": "text"
      },
      "source": [
        "17) Haz una función que reciba un número \"n\" pueda crear una lista del 1 al 100 que regrese la cadena \"NO\" para los números divisibles entre el número \"n\"\n",
        "\n",
        "    Ejemplo: [In]: 15 [Out]: [0, 1, 2, 3, 4, 5, 6, 7, 8, 9, 10, 11, 12, 13, 14, \"NO\" , 16, 17, 18, 19, 20, 21, 22, 23, 24, 25, 26, 27, 28, 29, \"NO\", 31, 32, 33, 34, 35, 36, 37, 38, 39, 40, 41, 42, 43, 44, \"NO\", 46, 47, 48, 49, 50, 51, 52, 53, 54, 55, 56, 57, 58, 59, \"NO\", 61, 62, 63, 64, 65, 66, 67, 68, 69, 70, 71, 72, 73, 74, \"NO\", 76, 77, 78, 79, 80, 81, 82, 83, 84, 85, 86, 87, 88, 89, \"NO\", 91, 92, 93, 94, 95, 96, 97, 98, 99, 100]"
      ]
    },
    {
      "cell_type": "code",
      "metadata": {
        "id": "KCmtomLX6fgm",
        "colab_type": "code",
        "colab": {}
      },
      "source": [
        ""
      ],
      "execution_count": 0,
      "outputs": []
    },
    {
      "cell_type": "markdown",
      "metadata": {
        "id": "qLpbgGWN6fgt",
        "colab_type": "text"
      },
      "source": [
        "18) Dada una lista con elementos númericos del 1 al 100 elabora una lista por comprensión que guarde los elementos que son múltiplos de 5."
      ]
    },
    {
      "cell_type": "code",
      "metadata": {
        "id": "dxwYCCcT6fgw",
        "colab_type": "code",
        "colab": {}
      },
      "source": [
        ""
      ],
      "execution_count": 0,
      "outputs": []
    },
    {
      "cell_type": "markdown",
      "metadata": {
        "id": "XJJKlTAC6fhD",
        "colab_type": "text"
      },
      "source": [
        "19) Escribe una función que tome un entero positivo \"n\" y regrese la suma de los cuadrados de todos los números pares menores o iguales que \"n\"\n",
        "\n",
        "    Ejemplo: [In]: 12 [Out]: 364\n",
        "    "
      ]
    },
    {
      "cell_type": "code",
      "metadata": {
        "id": "ub3Zjdeq6fhF",
        "colab_type": "code",
        "colab": {}
      },
      "source": [
        ""
      ],
      "execution_count": 0,
      "outputs": []
    },
    {
      "cell_type": "markdown",
      "metadata": {
        "id": "zyoav4Zk6fhK",
        "colab_type": "text"
      },
      "source": [
        "19) Realiza una función que pida un número \"n\" y elabora un menú donde el usuario pueda elegir si quiere convertir  n a base binaria, hexadecimal u octal.\n",
        "\n",
        "    Ejemplo suponiendo que se elige hexadecimal: [In]: 365 [Out]: 16d\n",
        "    \n",
        "**NOTA**: Pueden realizar la función desde 0 lo cuál les daría su punto extra o investiguen los métodos hex(), bin(),...."
      ]
    },
    {
      "cell_type": "code",
      "metadata": {
        "id": "5ddGx_0_6fhL",
        "colab_type": "code",
        "colab": {}
      },
      "source": [
        ""
      ],
      "execution_count": 0,
      "outputs": []
    },
    {
      "cell_type": "markdown",
      "metadata": {
        "id": "fyP6XDEA6fhU",
        "colab_type": "text"
      },
      "source": [
        "20) En esta opción eres libre de poner cualquier función. Debes comentar que es lo que hace\n",
        "\n",
        "**NOTA**: No, no puede ser sólo un print. \n",
        "\n",
        "**NOTA**: No, tampoco cuenta hacer dos o tres prints. \n",
        "\n",
        "**NOTA**: Deben usar aunque sea un bucle, sean creativos. "
      ]
    },
    {
      "cell_type": "code",
      "metadata": {
        "id": "9Oyu8gCG6fhV",
        "colab_type": "code",
        "colab": {}
      },
      "source": [
        ""
      ],
      "execution_count": 0,
      "outputs": []
    }
  ]
}