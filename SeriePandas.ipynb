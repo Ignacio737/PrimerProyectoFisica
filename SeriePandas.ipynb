{
  "nbformat": 4,
  "nbformat_minor": 0,
  "metadata": {
    "kernelspec": {
      "display_name": "Python 3",
      "language": "python",
      "name": "python3"
    },
    "language_info": {
      "codemirror_mode": {
        "name": "ipython",
        "version": 3
      },
      "file_extension": ".py",
      "mimetype": "text/x-python",
      "name": "python",
      "nbconvert_exporter": "python",
      "pygments_lexer": "ipython3",
      "version": "3.7.3"
    },
    "colab": {
      "name": "SeriePandas.ipynb",
      "provenance": [],
      "include_colab_link": true
    }
  },
  "cells": [
    {
      "cell_type": "markdown",
      "metadata": {
        "id": "view-in-github",
        "colab_type": "text"
      },
      "source": [
        "<a href=\"https://colab.research.google.com/github/Ignacio737/PrimerProyectoFisica/blob/master/SeriePandas.ipynb\" target=\"_parent\"><img src=\"https://colab.research.google.com/assets/colab-badge.svg\" alt=\"Open In Colab\"/></a>"
      ]
    },
    {
      "cell_type": "markdown",
      "metadata": {
        "id": "zfhj1Cqi61tB",
        "colab_type": "text"
      },
      "source": [
        "### Serie Pandas\n",
        "Esta es la segunda serie, en esta quiero que trabajemos con datasets que se obtendrán a partir del github del curso que es: https://github.com/adrishg/PythonML-PrebecariosProteco \n",
        "\n",
        "(No les subiré un punto por seguirme porque no estoy tan desesperada por popularidad pero deberían considerarlo)"
      ]
    },
    {
      "cell_type": "code",
      "metadata": {
        "id": "2d9nh-rw61tE",
        "colab_type": "code",
        "colab": {}
      },
      "source": [
        "import pandas as pd"
      ],
      "execution_count": 0,
      "outputs": []
    },
    {
      "cell_type": "markdown",
      "metadata": {
        "id": "mTbI9u7n61tP",
        "colab_type": "text"
      },
      "source": [
        "1) Considerando el siguiente set de datos:\n",
        "           \n",
        "           a) Crea un dataframe a partir de datos\n",
        "           b) Despliega los primeros tres datos de dicho dataframe\n",
        "           c) Despliga los últimos dos datos de dicho dataframe\n",
        "           d) Una descripción de los datos (count, mean, std, ...) "
      ]
    },
    {
      "cell_type": "code",
      "metadata": {
        "id": "KASX-L6f61tR",
        "colab_type": "code",
        "colab": {}
      },
      "source": [
        "datos = {\n",
        "    'fecha':pd.date_range('20200430', periods=6),\n",
        "    'calidad':pd.Categorical(['buena', 'muy buena', 'mala', 'buena', 'muy mala', 'buena'],\n",
        "                                 categories = ['muy mala', 'mala', 'regular', 'buena', 'muy buena'],\n",
        "                                 ordered = True),\n",
        "    'asistentes':[10, 25, 12, 3, 23, 43],\n",
        "    'recomendaciones':['hablar más lento', 'me aburri', 'Derek hacia cosas raras', 'excelente', 'no se entendio nada',\n",
        "               '¿Y el recreo?']\n",
        "}"
      ],
      "execution_count": 0,
      "outputs": []
    },
    {
      "cell_type": "code",
      "metadata": {
        "id": "gE5CknNa61ta",
        "colab_type": "code",
        "outputId": "a3cf9d02-16d8-4961-c6e9-10d235bac5f1",
        "colab": {
          "base_uri": "https://localhost:8080/",
          "height": 228
        }
      },
      "source": [
        "dataFrameDatos=pd.DataFrame(datos)\n",
        "dataFrameDatos\n",
        "\n"
      ],
      "execution_count": 0,
      "outputs": [
        {
          "output_type": "execute_result",
          "data": {
            "text/html": [
              "<div>\n",
              "<style scoped>\n",
              "    .dataframe tbody tr th:only-of-type {\n",
              "        vertical-align: middle;\n",
              "    }\n",
              "\n",
              "    .dataframe tbody tr th {\n",
              "        vertical-align: top;\n",
              "    }\n",
              "\n",
              "    .dataframe thead th {\n",
              "        text-align: right;\n",
              "    }\n",
              "</style>\n",
              "<table border=\"1\" class=\"dataframe\">\n",
              "  <thead>\n",
              "    <tr style=\"text-align: right;\">\n",
              "      <th></th>\n",
              "      <th>fecha</th>\n",
              "      <th>calidad</th>\n",
              "      <th>asistentes</th>\n",
              "      <th>recomendaciones</th>\n",
              "    </tr>\n",
              "  </thead>\n",
              "  <tbody>\n",
              "    <tr>\n",
              "      <th>0</th>\n",
              "      <td>2020-04-30</td>\n",
              "      <td>buena</td>\n",
              "      <td>10</td>\n",
              "      <td>hablar más lento</td>\n",
              "    </tr>\n",
              "    <tr>\n",
              "      <th>1</th>\n",
              "      <td>2020-05-01</td>\n",
              "      <td>muy buena</td>\n",
              "      <td>25</td>\n",
              "      <td>me aburri</td>\n",
              "    </tr>\n",
              "    <tr>\n",
              "      <th>2</th>\n",
              "      <td>2020-05-02</td>\n",
              "      <td>mala</td>\n",
              "      <td>12</td>\n",
              "      <td>Derek hacia cosas raras</td>\n",
              "    </tr>\n",
              "    <tr>\n",
              "      <th>3</th>\n",
              "      <td>2020-05-03</td>\n",
              "      <td>buena</td>\n",
              "      <td>3</td>\n",
              "      <td>excelente</td>\n",
              "    </tr>\n",
              "    <tr>\n",
              "      <th>4</th>\n",
              "      <td>2020-05-04</td>\n",
              "      <td>muy mala</td>\n",
              "      <td>23</td>\n",
              "      <td>no se entendio nada</td>\n",
              "    </tr>\n",
              "    <tr>\n",
              "      <th>5</th>\n",
              "      <td>2020-05-05</td>\n",
              "      <td>buena</td>\n",
              "      <td>43</td>\n",
              "      <td>¿Y el recreo?</td>\n",
              "    </tr>\n",
              "  </tbody>\n",
              "</table>\n",
              "</div>"
            ],
            "text/plain": [
              "       fecha    calidad  asistentes          recomendaciones\n",
              "0 2020-04-30      buena          10         hablar más lento\n",
              "1 2020-05-01  muy buena          25                me aburri\n",
              "2 2020-05-02       mala          12  Derek hacia cosas raras\n",
              "3 2020-05-03      buena           3                excelente\n",
              "4 2020-05-04   muy mala          23      no se entendio nada\n",
              "5 2020-05-05      buena          43            ¿Y el recreo?"
            ]
          },
          "metadata": {
            "tags": []
          },
          "execution_count": 8
        }
      ]
    },
    {
      "cell_type": "markdown",
      "metadata": {
        "id": "CYGY0MsK61tl",
        "colab_type": "text"
      },
      "source": [
        "2) Crea una función que pida número de columnas, su nombre y número de datos a ingresar de manera que el usuario pueda crear un dataframe con los datos de su preferencia."
      ]
    },
    {
      "cell_type": "code",
      "metadata": {
        "id": "SAg9V8Xc61tn",
        "colab_type": "code",
        "outputId": "b0de8d19-d342-4676-c17c-7722afc8bf7a",
        "colab": {
          "base_uri": "https://localhost:8080/",
          "height": 244
        }
      },
      "source": [
        " import pandas as pd \n",
        " def creadorDataFrames():\n",
        "     datosingresados={}\n",
        "     print(\"numero de columnas:\")\n",
        "     numeroColumnas=int(input())\n",
        "     print(\"numero de filas:\")\n",
        "     numeroFilas=int(input())\n",
        "     for i in range(numeroColumnas):\n",
        "       print(\"Nombre de\",i+1,\"columna\")\n",
        "       nombreColumna=input()\n",
        "       columna=[]\n",
        "       for j in range(numeroFilas):\n",
        "           print(j+1,\"dato\") \n",
        "           dato= input()\n",
        "           columna.append(dato)\n",
        "       datosingresados[nombreColumna]=columna\n",
        "dataFrameingresado=pd.DataFrame(datosingresados)\n",
        "print(dataFrameingresado)\n",
        "\n",
        "creadorDataFrames()\n",
        "       \n"
      ],
      "execution_count": 0,
      "outputs": [
        {
          "output_type": "error",
          "ename": "NameError",
          "evalue": "ignored",
          "traceback": [
            "\u001b[0;31m---------------------------------------------------------------------------\u001b[0m",
            "\u001b[0;31mNameError\u001b[0m                                 Traceback (most recent call last)",
            "\u001b[0;32m<ipython-input-17-954bfd401e9a>\u001b[0m in \u001b[0;36m<module>\u001b[0;34m()\u001b[0m\n\u001b[1;32m     15\u001b[0m           \u001b[0mcolumna\u001b[0m\u001b[0;34m.\u001b[0m\u001b[0mappend\u001b[0m\u001b[0;34m(\u001b[0m\u001b[0mdato\u001b[0m\u001b[0;34m)\u001b[0m\u001b[0;34m\u001b[0m\u001b[0;34m\u001b[0m\u001b[0m\n\u001b[1;32m     16\u001b[0m       \u001b[0mdatosingresados\u001b[0m\u001b[0;34m[\u001b[0m\u001b[0mnombreColumna\u001b[0m\u001b[0;34m]\u001b[0m\u001b[0;34m=\u001b[0m\u001b[0mcolumna\u001b[0m\u001b[0;34m\u001b[0m\u001b[0;34m\u001b[0m\u001b[0m\n\u001b[0;32m---> 17\u001b[0;31m \u001b[0mdataFrameingresado\u001b[0m\u001b[0;34m=\u001b[0m\u001b[0mpd\u001b[0m\u001b[0;34m.\u001b[0m\u001b[0mDataFrame\u001b[0m\u001b[0;34m(\u001b[0m\u001b[0mdatosingresados\u001b[0m\u001b[0;34m)\u001b[0m\u001b[0;34m\u001b[0m\u001b[0;34m\u001b[0m\u001b[0m\n\u001b[0m\u001b[1;32m     18\u001b[0m \u001b[0mprint\u001b[0m\u001b[0;34m(\u001b[0m\u001b[0mdataFrameingresado\u001b[0m\u001b[0;34m)\u001b[0m\u001b[0;34m\u001b[0m\u001b[0;34m\u001b[0m\u001b[0m\n\u001b[1;32m     19\u001b[0m \u001b[0;34m\u001b[0m\u001b[0m\n",
            "\u001b[0;31mNameError\u001b[0m: name 'datosingresados' is not defined"
          ]
        }
      ]
    },
    {
      "cell_type": "markdown",
      "metadata": {
        "id": "36-cdLyy61tw",
        "colab_type": "text"
      },
      "source": [
        "3) A partir del siguiente DataSet realiza:"
      ]
    },
    {
      "cell_type": "code",
      "metadata": {
        "id": "IpFzL35S61ty",
        "colab_type": "code",
        "outputId": "17076d9e-ba17-49c7-acbc-f201a27b4548",
        "colab": {}
      },
      "source": [
        "#Liga del github: https://raw.githubusercontent.com/adrishg/PythonML-PrebecariosProteco/master/DataSets/startupsUSA.csv\n",
        "#Podrán agregar archivos de github y leerlos usando el url raw\n",
        "data = pd.read_csv('https://raw.githubusercontent.com/adrishg/PythonML-PrebecariosProteco/master/DataSets/startupsUSA.csv')\n",
        "data.head()"
      ],
      "execution_count": 0,
      "outputs": [
        {
          "output_type": "execute_result",
          "data": {
            "text/html": [
              "<div>\n",
              "<style scoped>\n",
              "    .dataframe tbody tr th:only-of-type {\n",
              "        vertical-align: middle;\n",
              "    }\n",
              "\n",
              "    .dataframe tbody tr th {\n",
              "        vertical-align: top;\n",
              "    }\n",
              "\n",
              "    .dataframe thead th {\n",
              "        text-align: right;\n",
              "    }\n",
              "</style>\n",
              "<table border=\"1\" class=\"dataframe\">\n",
              "  <thead>\n",
              "    <tr style=\"text-align: right;\">\n",
              "      <th></th>\n",
              "      <th>R&amp;D Spend</th>\n",
              "      <th>Administration</th>\n",
              "      <th>Marketing Spend</th>\n",
              "      <th>State</th>\n",
              "      <th>Profit</th>\n",
              "    </tr>\n",
              "  </thead>\n",
              "  <tbody>\n",
              "    <tr>\n",
              "      <th>0</th>\n",
              "      <td>165349.20</td>\n",
              "      <td>136897.80</td>\n",
              "      <td>471784.10</td>\n",
              "      <td>New York</td>\n",
              "      <td>192261.83</td>\n",
              "    </tr>\n",
              "    <tr>\n",
              "      <th>1</th>\n",
              "      <td>162597.70</td>\n",
              "      <td>151377.59</td>\n",
              "      <td>443898.53</td>\n",
              "      <td>California</td>\n",
              "      <td>191792.06</td>\n",
              "    </tr>\n",
              "    <tr>\n",
              "      <th>2</th>\n",
              "      <td>153441.51</td>\n",
              "      <td>101145.55</td>\n",
              "      <td>407934.54</td>\n",
              "      <td>Florida</td>\n",
              "      <td>191050.39</td>\n",
              "    </tr>\n",
              "    <tr>\n",
              "      <th>3</th>\n",
              "      <td>144372.41</td>\n",
              "      <td>118671.85</td>\n",
              "      <td>383199.62</td>\n",
              "      <td>New York</td>\n",
              "      <td>182901.99</td>\n",
              "    </tr>\n",
              "    <tr>\n",
              "      <th>4</th>\n",
              "      <td>142107.34</td>\n",
              "      <td>91391.77</td>\n",
              "      <td>366168.42</td>\n",
              "      <td>Florida</td>\n",
              "      <td>166187.94</td>\n",
              "    </tr>\n",
              "  </tbody>\n",
              "</table>\n",
              "</div>"
            ],
            "text/plain": [
              "   R&D Spend  Administration  Marketing Spend       State     Profit\n",
              "0  165349.20       136897.80        471784.10    New York  192261.83\n",
              "1  162597.70       151377.59        443898.53  California  191792.06\n",
              "2  153441.51       101145.55        407934.54     Florida  191050.39\n",
              "3  144372.41       118671.85        383199.62    New York  182901.99\n",
              "4  142107.34        91391.77        366168.42     Florida  166187.94"
            ]
          },
          "metadata": {
            "tags": []
          },
          "execution_count": 11
        }
      ]
    },
    {
      "cell_type": "markdown",
      "metadata": {
        "id": "PU5DHdbh61uG",
        "colab_type": "text"
      },
      "source": [
        "    a) Crea una función que reciba un lugar y despligue en el número de empresas que residen en dicho lugar"
      ]
    },
    {
      "cell_type": "code",
      "metadata": {
        "id": "ljLNQBDB61uH",
        "colab_type": "code",
        "outputId": "e58431fd-c3f7-44dd-da3d-28b3efd96f2e",
        "colab": {
          "base_uri": "https://localhost:8080/",
          "height": 335
        }
      },
      "source": [
        "def contarPorLugar(lugar):\n",
        "    estaAhi = data['State'] == lugar\n",
        "    agrupadoPorLugar = data[estaAhi]\n",
        "    print(\"El numero de empresas en\",lugar,\"es\",len(agrupadoPorLugar))\n",
        "    print(agrupadoPorLugar)\n",
        "\n",
        "contarPorLugar('New York')\n"
      ],
      "execution_count": 0,
      "outputs": [
        {
          "output_type": "error",
          "ename": "NameError",
          "evalue": "ignored",
          "traceback": [
            "\u001b[0;31m---------------------------------------------------------------------------\u001b[0m",
            "\u001b[0;31mNameError\u001b[0m                                 Traceback (most recent call last)",
            "\u001b[0;32m<ipython-input-27-d2fd2ffc3a25>\u001b[0m in \u001b[0;36m<module>\u001b[0;34m()\u001b[0m\n\u001b[1;32m      5\u001b[0m     \u001b[0mprint\u001b[0m\u001b[0;34m(\u001b[0m\u001b[0magrupadoPorLugar\u001b[0m\u001b[0;34m)\u001b[0m\u001b[0;34m\u001b[0m\u001b[0;34m\u001b[0m\u001b[0m\n\u001b[1;32m      6\u001b[0m \u001b[0;34m\u001b[0m\u001b[0m\n\u001b[0;32m----> 7\u001b[0;31m \u001b[0mcontarPorLugar\u001b[0m\u001b[0;34m(\u001b[0m\u001b[0;34m'New York'\u001b[0m\u001b[0;34m)\u001b[0m\u001b[0;34m\u001b[0m\u001b[0;34m\u001b[0m\u001b[0m\n\u001b[0m",
            "\u001b[0;32m<ipython-input-27-d2fd2ffc3a25>\u001b[0m in \u001b[0;36mcontarPorLugar\u001b[0;34m(lugar)\u001b[0m\n\u001b[1;32m      1\u001b[0m \u001b[0;32mdef\u001b[0m \u001b[0mcontarPorLugar\u001b[0m\u001b[0;34m(\u001b[0m\u001b[0mlugar\u001b[0m\u001b[0;34m)\u001b[0m\u001b[0;34m:\u001b[0m\u001b[0;34m\u001b[0m\u001b[0;34m\u001b[0m\u001b[0m\n\u001b[0;32m----> 2\u001b[0;31m     \u001b[0mestaAhi\u001b[0m \u001b[0;34m=\u001b[0m \u001b[0mdata\u001b[0m\u001b[0;34m[\u001b[0m\u001b[0;34m'State'\u001b[0m\u001b[0;34m]\u001b[0m \u001b[0;34m==\u001b[0m \u001b[0mlugar\u001b[0m\u001b[0;34m\u001b[0m\u001b[0;34m\u001b[0m\u001b[0m\n\u001b[0m\u001b[1;32m      3\u001b[0m     \u001b[0magrupadoPorLugar\u001b[0m \u001b[0;34m=\u001b[0m \u001b[0mdata\u001b[0m\u001b[0;34m[\u001b[0m\u001b[0mestaAhi\u001b[0m\u001b[0;34m]\u001b[0m\u001b[0;34m\u001b[0m\u001b[0;34m\u001b[0m\u001b[0m\n\u001b[1;32m      4\u001b[0m     \u001b[0mprint\u001b[0m\u001b[0;34m(\u001b[0m\u001b[0;34m\"El numero de empresas en\"\u001b[0m\u001b[0;34m,\u001b[0m\u001b[0mlugar\u001b[0m\u001b[0;34m,\u001b[0m\u001b[0;34m\"es\"\u001b[0m\u001b[0;34m,\u001b[0m\u001b[0mlen\u001b[0m\u001b[0;34m(\u001b[0m\u001b[0magrupadoPorLugar\u001b[0m\u001b[0;34m)\u001b[0m\u001b[0;34m)\u001b[0m\u001b[0;34m\u001b[0m\u001b[0;34m\u001b[0m\u001b[0m\n\u001b[1;32m      5\u001b[0m     \u001b[0mprint\u001b[0m\u001b[0;34m(\u001b[0m\u001b[0magrupadoPorLugar\u001b[0m\u001b[0;34m)\u001b[0m\u001b[0;34m\u001b[0m\u001b[0;34m\u001b[0m\u001b[0m\n",
            "\u001b[0;31mNameError\u001b[0m: name 'data' is not defined"
          ]
        }
      ]
    },
    {
      "cell_type": "markdown",
      "metadata": {
        "id": "CfpkL99NH1Ju",
        "colab_type": "text"
      },
      "source": [
        ""
      ]
    },
    {
      "cell_type": "markdown",
      "metadata": {
        "id": "8QXSXPy261uT",
        "colab_type": "text"
      },
      "source": [
        "    b) Un data set cuyo orden este dado alfabeticamente por los lugares donde están las empresas"
      ]
    },
    {
      "cell_type": "code",
      "metadata": {
        "id": "a8-asd9G61uV",
        "colab_type": "code",
        "outputId": "c38308f5-6a15-43f4-9efd-b128aaae94e4",
        "colab": {
          "base_uri": "https://localhost:8080/",
          "height": 189
        }
      },
      "source": [
        "ordenadorPorNombreLugar = data.sort_values('State',ascendin=True)\n",
        "print(ordenadoPorNombreLugar.head())"
      ],
      "execution_count": 0,
      "outputs": [
        {
          "output_type": "error",
          "ename": "NameError",
          "evalue": "ignored",
          "traceback": [
            "\u001b[0;31m---------------------------------------------------------------------------\u001b[0m",
            "\u001b[0;31mNameError\u001b[0m                                 Traceback (most recent call last)",
            "\u001b[0;32m<ipython-input-1-2dd9ce4e8966>\u001b[0m in \u001b[0;36m<module>\u001b[0;34m()\u001b[0m\n\u001b[0;32m----> 1\u001b[0;31m \u001b[0mordenadorPorNombreLugar\u001b[0m \u001b[0;34m=\u001b[0m \u001b[0mdata\u001b[0m\u001b[0;34m.\u001b[0m\u001b[0msort_values\u001b[0m\u001b[0;34m(\u001b[0m\u001b[0;34m'State'\u001b[0m\u001b[0;34m,\u001b[0m\u001b[0mascendin\u001b[0m\u001b[0;34m=\u001b[0m\u001b[0;32mTrue\u001b[0m\u001b[0;34m)\u001b[0m\u001b[0;34m\u001b[0m\u001b[0;34m\u001b[0m\u001b[0m\n\u001b[0m\u001b[1;32m      2\u001b[0m \u001b[0mprint\u001b[0m\u001b[0;34m(\u001b[0m\u001b[0mordenadoPorNombreLugar\u001b[0m\u001b[0;34m.\u001b[0m\u001b[0mhead\u001b[0m\u001b[0;34m(\u001b[0m\u001b[0;34m)\u001b[0m\u001b[0;34m)\u001b[0m\u001b[0;34m\u001b[0m\u001b[0;34m\u001b[0m\u001b[0m\n",
            "\u001b[0;31mNameError\u001b[0m: name 'data' is not defined"
          ]
        }
      ]
    },
    {
      "cell_type": "markdown",
      "metadata": {
        "id": "90UdtXK661uc",
        "colab_type": "text"
      },
      "source": [
        "    c) Una función donde ingreses el index númerico y despliegue dichos datos de manera legible:\n",
        "    \n",
        "        Ejemplo: [In]: 0  [Out]: La empresa que reside en New York tiene un gato de Marketing de 471784.10 dólares mientras que sus ganancias son 192261.83 dólares..."
      ]
    },
    {
      "cell_type": "code",
      "metadata": {
        "id": "9Qrxp38H61ue",
        "colab_type": "code",
        "colab": {}
      },
      "source": [
        "def accerderPorIndice(indice):\n",
        "    resgistroPorIndice = data.iloc[indice]\n",
        "    print(\"La empresa que reside en\", registroPorIndice['State'],\"tiene un\n",
        "    gasto \")"
      ],
      "execution_count": 0,
      "outputs": []
    },
    {
      "cell_type": "markdown",
      "metadata": {
        "id": "0nouQxN8-x3_",
        "colab_type": "text"
      },
      "source": [
        ""
      ]
    },
    {
      "cell_type": "markdown",
      "metadata": {
        "id": "zSjftpHu61um",
        "colab_type": "text"
      },
      "source": [
        "4) Deberán cargar los datos de iris setosa de dos maneras:\n",
        "\n",
        "    a) Deberán dirigirse al repositorio del curso: https://github.com/adrishg/PythonML-PrebecariosProteco\n",
        "    De ahí a la carpeta de DataSets, ahí encontrarán el archivo iris.csv deben darle click para previsualizar el archivo. Ahí encontrarán un botón que dice Raw denle click y copien la liga, ese es el link raw y podrán exportarlo como lo hice en la parte de arriba con los datos de las empresas estadounidenses.\n",
        "    Desplieguen los datos con un describe para que revisen que se exporto bien.\n",
        "    \n",
        "    NOTA: También pueden aprovechar y seguirme en github, saludos.\n",
        "    \n",
        "![screenshot iris csv](https://drive.google.com/uc?id=1ytlucQdsbdnWsJmTG61eR7WQ_PBFNmCQ)\n",
        "    "
      ]
    },
    {
      "cell_type": "code",
      "metadata": {
        "id": "M_9dFdv961uo",
        "colab_type": "code",
        "outputId": "80f01156-61ff-4372-b4ad-c6881bcda857",
        "colab": {
          "base_uri": "https://localhost:8080/",
          "height": 135
        }
      },
      "source": [
        "data = pd.read_csv('https://raw.githubusercontent.com/adrishg/\n",
        ",!PythonML-PrebecariosProteco/master/DataSets/iris.csv')\n",
        "data.head()"
      ],
      "execution_count": 0,
      "outputs": [
        {
          "output_type": "error",
          "ename": "SyntaxError",
          "evalue": "ignored",
          "traceback": [
            "\u001b[0;36m  File \u001b[0;32m\"<ipython-input-2-e612a9bb3dd9>\"\u001b[0;36m, line \u001b[0;32m1\u001b[0m\n\u001b[0;31m    data = pd.read_csv('https://raw.githubusercontent.com/adrishg/\u001b[0m\n\u001b[0m                                                                  ^\u001b[0m\n\u001b[0;31mSyntaxError\u001b[0m\u001b[0;31m:\u001b[0m EOL while scanning string literal\n"
          ]
        }
      ]
    },
    {
      "cell_type": "markdown",
      "metadata": {
        "id": "sDFUTr3H61uu",
        "colab_type": "text"
      },
      "source": [
        "    b) El dataset de Iris es muy conocido en el área ya que está precargado en sklearn.datasets. Pueden obtenerlo a partir de este, tendrán que investigarlo y exportar los datos."
      ]
    },
    {
      "cell_type": "code",
      "metadata": {
        "id": "vsfq20Ib61ux",
        "colab_type": "code",
        "outputId": "b265f339-4f75-42ef-875c-9fb8c5417e13",
        "colab": {
          "base_uri": "https://localhost:8080/",
          "height": 225
        }
      },
      "source": [
        "from sklearn.datasets import load_iris\n",
        "\n",
        "\n",
        "iris = load_iris()\n",
        "irisDataFrame = pd.DataFrame(iris.dta, columns=iris.feature_names)\n",
        "irisDataFrame.head()"
      ],
      "execution_count": 0,
      "outputs": [
        {
          "output_type": "error",
          "ename": "NameError",
          "evalue": "ignored",
          "traceback": [
            "\u001b[0;31m---------------------------------------------------------------------------\u001b[0m",
            "\u001b[0;31mNameError\u001b[0m                                 Traceback (most recent call last)",
            "\u001b[0;32m<ipython-input-3-b959be76cace>\u001b[0m in \u001b[0;36m<module>\u001b[0;34m()\u001b[0m\n\u001b[1;32m      3\u001b[0m \u001b[0;34m\u001b[0m\u001b[0m\n\u001b[1;32m      4\u001b[0m \u001b[0miris\u001b[0m \u001b[0;34m=\u001b[0m \u001b[0mload_iris\u001b[0m\u001b[0;34m(\u001b[0m\u001b[0;34m)\u001b[0m\u001b[0;34m\u001b[0m\u001b[0;34m\u001b[0m\u001b[0m\n\u001b[0;32m----> 5\u001b[0;31m \u001b[0mirisDataFrame\u001b[0m \u001b[0;34m=\u001b[0m \u001b[0mpd\u001b[0m\u001b[0;34m.\u001b[0m\u001b[0mDataFrame\u001b[0m\u001b[0;34m(\u001b[0m\u001b[0miris\u001b[0m\u001b[0;34m.\u001b[0m\u001b[0mdta\u001b[0m\u001b[0;34m,\u001b[0m \u001b[0mcolumns\u001b[0m\u001b[0;34m=\u001b[0m\u001b[0miris\u001b[0m\u001b[0;34m.\u001b[0m\u001b[0mfeature_names\u001b[0m\u001b[0;34m)\u001b[0m\u001b[0;34m\u001b[0m\u001b[0;34m\u001b[0m\u001b[0m\n\u001b[0m\u001b[1;32m      6\u001b[0m \u001b[0mirisDataFrame\u001b[0m\u001b[0;34m.\u001b[0m\u001b[0mhead\u001b[0m\u001b[0;34m(\u001b[0m\u001b[0;34m)\u001b[0m\u001b[0;34m\u001b[0m\u001b[0;34m\u001b[0m\u001b[0m\n",
            "\u001b[0;31mNameError\u001b[0m: name 'pd' is not defined"
          ]
        }
      ]
    },
    {
      "cell_type": "markdown",
      "metadata": {
        "id": "8ej74CyX61u6",
        "colab_type": "text"
      },
      "source": [
        "    c) Por último les recomiendo leer acerca de este dataset, lo usaremos bastante en clase."
      ]
    },
    {
      "cell_type": "markdown",
      "metadata": {
        "id": "Fv29AlqF61u8",
        "colab_type": "text"
      },
      "source": [
        "5) En esta opción eres libre de poner cualquier función que use elementos y funciones de la librería pandas. \n",
        "    El requerimiento es que uses iloc, puedes usar alguno de los datasets cargados en esta libreta de jupyter.\n"
      ]
    },
    {
      "cell_type": "code",
      "metadata": {
        "id": "EbP6_PyC61u9",
        "colab_type": "code",
        "colab": {}
      },
      "source": [
        ""
      ],
      "execution_count": 0,
      "outputs": []
    }
  ]
}